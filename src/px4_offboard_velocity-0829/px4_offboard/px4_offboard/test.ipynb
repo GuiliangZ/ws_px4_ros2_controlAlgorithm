{
 "cells": [
  {
   "cell_type": "code",
   "execution_count": 2,
   "metadata": {},
   "outputs": [],
   "source": [
    "import numpy as np\n",
    "\n",
    "a = [0,0,-0.25]\n",
    "b = [0.2,-0.2,-0.25]\n",
    "c = [-0.2,-0.2,-0.25]\n",
    "d = [-0.2,0.2,-0.25]\n",
    "e = [0.2,0.2,-0.25]\n",
    "f = [0.2,-0.2,-0.25]\n",
    "setpoint_array = np.array([a,b,c,d,e,f])"
   ]
  },
  {
   "cell_type": "code",
   "execution_count": 3,
   "metadata": {},
   "outputs": [
    {
     "name": "stdout",
     "output_type": "stream",
     "text": [
      "[[ 0.    0.   -0.25]\n",
      " [ 0.2  -0.2  -0.25]\n",
      " [-0.2  -0.2  -0.25]\n",
      " [-0.2   0.2  -0.25]\n",
      " [ 0.2   0.2  -0.25]\n",
      " [ 0.2  -0.2  -0.25]]\n"
     ]
    }
   ],
   "source": [
    "print(setpoint_array)"
   ]
  },
  {
   "cell_type": "code",
   "execution_count": 4,
   "metadata": {},
   "outputs": [
    {
     "data": {
      "text/plain": [
       "0.0"
      ]
     },
     "execution_count": 4,
     "metadata": {},
     "output_type": "execute_result"
    }
   ],
   "source": [
    "setpoint_array[0][1]"
   ]
  },
  {
   "cell_type": "code",
   "execution_count": 3,
   "metadata": {},
   "outputs": [
    {
     "name": "stdout",
     "output_type": "stream",
     "text": [
      "0\n",
      "-0.2\n",
      "-0.25\n"
     ]
    }
   ],
   "source": [
    "from dataclasses import dataclass\n",
    "\n",
    "# Define a class for individual points\n",
    "@dataclass\n",
    "class Point:\n",
    "    x: float\n",
    "    y: float\n",
    "    z: float\n",
    "\n",
    "# Define a class for setpoints containing multiple points\n",
    "@dataclass\n",
    "class Setpoint:\n",
    "    a: Point\n",
    "    b: Point\n",
    "    c: Point\n",
    "    d: Point\n",
    "    e: Point\n",
    "    f: Point\n",
    "\n",
    "# Initialize the setpoints with the given coordinates\n",
    "setpoint = Setpoint(\n",
    "    a=Point(0, 0, -0.25),\n",
    "    b=Point(0.2, -0.2, -0.25),\n",
    "    c=Point(-0.2, -0.2, -0.25),\n",
    "    d=Point(-0.2, 0.2, -0.25),\n",
    "    e=Point(0.2, 0.2, -0.25),\n",
    "    f=Point(0.2, -0.2, -0.25)\n",
    ")\n",
    "\n",
    "# Accessing the data\n",
    "print(setpoint.a.x)  # Access x of point a\n",
    "print(setpoint.b.y)  # Access y of point b\n",
    "print(setpoint.c.z)  # Access z of point c"
   ]
  },
  {
   "cell_type": "code",
   "execution_count": 5,
   "metadata": {},
   "outputs": [
    {
     "name": "stdout",
     "output_type": "stream",
     "text": [
      "Point a: x = 0, y = 0, z = -0.25\n",
      "Point b: x = 0.2, y = -0.2, z = -0.25\n",
      "Point c: x = -0.2, y = -0.2, z = -0.25\n",
      "Point d: x = -0.2, y = 0.2, z = -0.25\n",
      "Point e: x = 0.2, y = 0.2, z = -0.25\n",
      "Point f: x = 0.2, y = -0.2, z = -0.25\n"
     ]
    }
   ],
   "source": [
    "for point_name, point in vars(setpoint).items():\n",
    "    print(f\"Point {point_name}: x = {point.x}, y = {point.y}, z = {point.z}\")"
   ]
  },
  {
   "cell_type": "code",
   "execution_count": null,
   "metadata": {},
   "outputs": [],
   "source": []
  }
 ],
 "metadata": {
  "kernelspec": {
   "display_name": "Python 3",
   "language": "python",
   "name": "python3"
  },
  "language_info": {
   "codemirror_mode": {
    "name": "ipython",
    "version": 3
   },
   "file_extension": ".py",
   "mimetype": "text/x-python",
   "name": "python",
   "nbconvert_exporter": "python",
   "pygments_lexer": "ipython3",
   "version": "3.10.12"
  }
 },
 "nbformat": 4,
 "nbformat_minor": 2
}
